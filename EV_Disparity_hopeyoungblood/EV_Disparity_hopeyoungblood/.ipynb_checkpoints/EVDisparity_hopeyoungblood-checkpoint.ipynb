{
 "cells": [
  {
   "cell_type": "code",
   "execution_count": 1,
   "id": "a4cb45dd",
   "metadata": {},
   "outputs": [
    {
     "ename": "ModuleNotFoundError",
     "evalue": "No module named 'config'",
     "output_type": "error",
     "traceback": [
      "\u001b[0;31m---------------------------------------------------------------------------\u001b[0m",
      "\u001b[0;31mModuleNotFoundError\u001b[0m                       Traceback (most recent call last)",
      "\u001b[0;32m<ipython-input-1-834e2e9c3833>\u001b[0m in \u001b[0;36m<module>\u001b[0;34m\u001b[0m\n\u001b[1;32m      4\u001b[0m \u001b[0;32mimport\u001b[0m \u001b[0mrequests\u001b[0m\u001b[0;34m\u001b[0m\u001b[0;34m\u001b[0m\u001b[0m\n\u001b[1;32m      5\u001b[0m \u001b[0;32mfrom\u001b[0m \u001b[0mcensus\u001b[0m \u001b[0;32mimport\u001b[0m \u001b[0mCensus\u001b[0m\u001b[0;34m\u001b[0m\u001b[0;34m\u001b[0m\u001b[0m\n\u001b[0;32m----> 6\u001b[0;31m \u001b[0;32mfrom\u001b[0m \u001b[0mconfig\u001b[0m \u001b[0;32mimport\u001b[0m \u001b[0mapi_key\u001b[0m\u001b[0;34m\u001b[0m\u001b[0;34m\u001b[0m\u001b[0m\n\u001b[0m\u001b[1;32m      7\u001b[0m \u001b[0;34m\u001b[0m\u001b[0m\n\u001b[1;32m      8\u001b[0m \u001b[0;31m## base_url = https://api.census.gov/data/2019/acs/acs5/subject?get=NAME,S0101_C01_001E&for=region:*&key=api_key\u001b[0m\u001b[0;34m\u001b[0m\u001b[0;34m\u001b[0m\u001b[0;34m\u001b[0m\u001b[0m\n",
      "\u001b[0;31mModuleNotFoundError\u001b[0m: No module named 'config'"
     ]
    }
   ],
   "source": [
    "import numpy as np\n",
    "import pandas as pd\n",
    "import matplotlib.pyplot as plt\n",
    "import requests\n",
    "from census import Census\n",
    "from config import api_key\n",
    "\n",
    "## base_url = https://api.census.gov/data/2019/acs/acs5/subject?get=NAME,S0101_C01_001E&for=region:*&key=api_key\n",
    "\n",
    "# api_key = \"0e395bcf9cca78932f9c8e80c0a8a55fe1cba723\"\n",
    "# Census API Key\n",
    "\n",
    "c = Census(api_key, year=2019)\n",
    "\n",
    "## \"0e395bcf9cca78932f9c8e80c0a8a55fe1cba723\"\n",
    "\n",
    "# STATE CODES:\n",
    "# 04|AZ|Arizona|01779777\n",
    "# 06|CA|California|01779778\n",
    "# 08|CO|Colorado|01779779\n",
    "# 16|ID|Idaho|01779783\n",
    "# 30|MT|Montana|00767982\n",
    "# 32|NV|Nevada|01779793\n",
    "# 35|NM|New Mexico|00897535\n",
    "# 41|OR|Oregon|01155107\n",
    "# 49|UT|Utah|01455989\n",
    "# 53|WA|Washington|01779804\n",
    "# 56|WY|Wyoming|01779807\n"
   ]
  },
  {
   "cell_type": "code",
   "execution_count": null,
   "id": "361cd788",
   "metadata": {
    "scrolled": true
   },
   "outputs": [],
   "source": [
    "census_data = c.acs5.get((\"NAME\", \"B01003_001E\", \"B19013_001E\", \"B01003_001E\", \"B01002_001E\", \"B11001_001E\",\n",
    "                          \"B19301_001E\", \"B08303_001E\", \"B08015_001E\",\n",
    "                          \"B17001_002E\"), {'for': 'zip code tabulation area:*'})\n",
    "\n",
    "# # Convert to DataFrame\n",
    "census_pd = pd.DataFrame(census_data)\n",
    "census_pd.head()\n"
   ]
  },
  {
   "cell_type": "code",
   "execution_count": null,
   "id": "d5d7fe2f",
   "metadata": {},
   "outputs": [],
   "source": [
    "# Column Reordering\n",
    "census_pd = census_pd.rename(columns={\"NAME\": \"State ID\",\n",
    "                                      \"State\": \"State ID\",\n",
    "                                      \"B01003_001E\": \"Population\",\n",
    "                                      \"B11001_001E\": \"Number of Households\",\n",
    "                                      \"B19013_001E\": \"Household Income\",\n",
    "#                                       \"B19301_001E\": \"Per Capita Income\",\n",
    "                                      \"B17001_002E\": \"Poverty Count\",\n",
    "                                      \"B08303_001E\": \"Total Commute Time\",\n",
    "                                      \"B08015_001E\": \"Total Vehicles\",\n",
    "                                      \"NAME\": \"Name\", \"zip code tabulation area\": \"Zipcode\"})\n",
    "\n",
    "\n",
    "\n",
    "census_pd.head()\n"
   ]
  },
  {
   "cell_type": "code",
   "execution_count": null,
   "id": "e814a824",
   "metadata": {},
   "outputs": [],
   "source": [
    "census_pd[\"Poverty Rate\"] = 100 * \\\n",
    "    census_pd[\"Poverty Count\"].astype(\n",
    "        int) / census_pd[\"Population\"].astype(int)\n",
    "\n",
    "census_pd[\"Average Vehicles per Household\"] = census_pd[\"Total Vehicles\"] / census_pd[\"Number of Households\"]\n",
    "\n",
    "census_pd[\"Average Commute Time\"] = census_pd[\"Total Commute Time\"] / census_pd[\"Number of Households\"]\n",
    "\n",
    "census_pd = census_pd[[\"State ID\", \"Zipcode\", \"Population\", \"Number of Households\", \n",
    "                       \"Household Income\", \"Poverty Count\", \"Poverty Rate\", \n",
    "                       \"Total Commute Time\", \"Average Commute Time\",\n",
    "                       \"Total Vehicles\", \"Average Vehicles per Household\"]]\n",
    "\n",
    "# Visualize\n",
    "print(len(census_pd))\n",
    "census_pd.head()\n",
    "    "
   ]
  },
  {
   "cell_type": "code",
   "execution_count": null,
   "id": "e7bb27c8",
   "metadata": {},
   "outputs": [],
   "source": [
    "census_pd.to_csv(\"census_data.csv\", encoding=\"utf-8\", index=False)"
   ]
  },
  {
   "cell_type": "code",
   "execution_count": null,
   "id": "1e9b2db2",
   "metadata": {},
   "outputs": [],
   "source": [
    "states = [\"04\", \"06\", \"08\", \"16\", \"30\", \"32\", \"35\", \"41\", \"49\", \"53\", \"56\"]\n",
    "\n",
    "state_name = {\"04\": \"AZ\",\n",
    "             \"06\": \"CA\",\n",
    "             \"08\": \"CO\",\n",
    "             \"16\": \"ID\",\n",
    "             \"30\": \"MT\",\n",
    "             \"32\": \"NV\",\n",
    "             \"35\": \"NM\",\n",
    "             \"41\": \"OR\",\n",
    "             \"49\": \"UT\",\n",
    "             \"53\": \"WA\",\n",
    "             \"56\": \"WY\"}\n",
    "\n",
    "state_census_df = census_pd.loc[census_pd[\"State ID\"].isin (states)]\n",
    "state_census_df\n",
    "\n",
    "state_census_df[\"State\"] = [state_name[state] for state in state_census_df[\"State ID\"]]\n",
    "state_census_df\n",
    "\n"
   ]
  },
  {
   "cell_type": "code",
   "execution_count": null,
   "id": "40cb79a1",
   "metadata": {},
   "outputs": [],
   "source": [
    "state_census_df.to_csv(\"state_census_df.csv\", encoding=\"utf-8\", index=False)"
   ]
  },
  {
   "cell_type": "code",
   "execution_count": null,
   "id": "ffdf7e51",
   "metadata": {},
   "outputs": [],
   "source": []
  },
  {
   "cell_type": "code",
   "execution_count": null,
   "id": "53df9e38",
   "metadata": {},
   "outputs": [],
   "source": []
  },
  {
   "cell_type": "code",
   "execution_count": null,
   "id": "170544d4",
   "metadata": {},
   "outputs": [],
   "source": []
  },
  {
   "cell_type": "code",
   "execution_count": null,
   "id": "6362ec41",
   "metadata": {},
   "outputs": [],
   "source": []
  },
  {
   "cell_type": "code",
   "execution_count": null,
   "id": "a4a2eb42",
   "metadata": {},
   "outputs": [],
   "source": []
  }
 ],
 "metadata": {
  "kernelspec": {
   "display_name": "Python 3",
   "language": "python",
   "name": "python3"
  },
  "language_info": {
   "codemirror_mode": {
    "name": "ipython",
    "version": 3
   },
   "file_extension": ".py",
   "mimetype": "text/x-python",
   "name": "python",
   "nbconvert_exporter": "python",
   "pygments_lexer": "ipython3",
   "version": "3.8.8"
  }
 },
 "nbformat": 4,
 "nbformat_minor": 5
}
