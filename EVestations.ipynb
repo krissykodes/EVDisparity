{
 "cells": [
  {
   "cell_type": "code",
   "execution_count": 14,
   "metadata": {},
   "outputs": [],
   "source": [
    "# Dependencies\n",
    "import requests\n",
    "import json\n",
    "import pandas as pd\n",
    "from config import get_key"
   ]
  },
  {
   "cell_type": "code",
   "execution_count": null,
   "metadata": {},
   "outputs": [],
   "source": [
    "hopes_awesome_file = pd.read_csv(\"../Project Jupyter Notebook Files/resources/state_census_df.csv\")\n",
    "hopes_awesome_file.head()"
   ]
  },
  {
   "cell_type": "code",
   "execution_count": 9,
   "metadata": {},
   "outputs": [],
   "source": [
    "# URL for GET requests to retrieve EV charging station data\n",
    "url = f\"https://developer.nrel.gov/api/alt-fuel-stations/v1.json?api_key={get_key}&fuel_type=ELEC&state=WA,OR,CA,ID,UT,NV,AZ,WY,MT,NM,CO&limit=all\"\n"
   ]
  },
  {
   "cell_type": "code",
   "execution_count": null,
   "metadata": {
    "scrolled": true
   },
   "outputs": [],
   "source": [
    "# Pretty print JSON for all EV charging stations in WA,OR,CA,ID,UT,NV,AZ,WY,MT,NM and CO\n",
    "response = requests.get(url).json()\n",
    "print(json.dumps(response, indent=4, sort_keys=True))"
   ]
  },
  {
   "cell_type": "code",
   "execution_count": 11,
   "metadata": {},
   "outputs": [],
   "source": [
    "#Create lists to cull out Zipcode, Latitude and Longitude response info:\n",
    "\n",
    "stations = response['fuel_stations']\n",
    "\n",
    "state = []\n",
    "city = []\n",
    "zip = []\n",
    "latitude = []\n",
    "longitude = []\n",
    "\n",
    "for station in stations:\n",
    "\n",
    "    state.append(station['state'])\n",
    "    city.append(station['city'])\n",
    "    zip.append(station['zip'])\n",
    "    latitude.append(station['latitude'])\n",
    "    longitude.append(station['longitude'])\n",
    "    "
   ]
  },
  {
   "cell_type": "code",
   "execution_count": null,
   "metadata": {},
   "outputs": [],
   "source": [
    "#Create a data frame from State, Zipcode, Latitude and Longitude:\n",
    "\n",
    "EVstation_dict = {\n",
    "                \"State\": state,\n",
    "                \"city\": city,\n",
    "                \"Zipcode\": zip,\n",
    "                \"latitude\": latitude,\n",
    "                \"longitude\": longitude\n",
    "                }\n",
    "\n",
    "EVstation_data = pd.DataFrame(EVstation_dict)\n",
    "EVstation_data.head()"
   ]
  },
  {
   "cell_type": "code",
   "execution_count": null,
   "metadata": {},
   "outputs": [],
   "source": [
    "len(EVstation_data)"
   ]
  },
  {
   "cell_type": "code",
   "execution_count": 41,
   "metadata": {},
   "outputs": [],
   "source": [
    "EVstation_data.dtypes\n",
    "EVstation_data['Zipcode']=EVstation_data['Zipcode'].astype(int)"
   ]
  },
  {
   "cell_type": "code",
   "execution_count": 48,
   "metadata": {},
   "outputs": [],
   "source": [
    "Evmerged = pd.merge(hopes_awesome_file,EVstation_data,how = \"inner\", on=\"Zipcode\")"
   ]
  },
  {
   "cell_type": "code",
   "execution_count": null,
   "metadata": {},
   "outputs": [],
   "source": [
    "Evmerged.head()"
   ]
  },
  {
   "cell_type": "code",
   "execution_count": null,
   "metadata": {},
   "outputs": [],
   "source": [
    "len(Evmerged[\"Zipcode\"])"
   ]
  },
  {
   "cell_type": "code",
   "execution_count": null,
   "metadata": {},
   "outputs": [],
   "source": []
  }
 ],
 "metadata": {
  "kernelspec": {
   "display_name": "Python 3",
   "language": "python",
   "name": "python3"
  },
  "language_info": {
   "codemirror_mode": {
    "name": "ipython",
    "version": 3
   },
   "file_extension": ".py",
   "mimetype": "text/x-python",
   "name": "python",
   "nbconvert_exporter": "python",
   "pygments_lexer": "ipython3",
   "version": "3.6.10"
  }
 },
 "nbformat": 4,
 "nbformat_minor": 4
}
